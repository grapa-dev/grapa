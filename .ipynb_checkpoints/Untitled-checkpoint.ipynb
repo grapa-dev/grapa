{
 "cells": [
  {
   "cell_type": "code",
   "execution_count": 3,
   "id": "731b2d4b",
   "metadata": {},
   "outputs": [],
   "source": [
    "import grapapy"
   ]
  },
  {
   "cell_type": "code",
   "execution_count": 4,
   "id": "cba44e57",
   "metadata": {},
   "outputs": [],
   "source": [
    "gr = grapapy.new()"
   ]
  },
  {
   "cell_type": "code",
   "execution_count": 5,
   "id": "b03cf223",
   "metadata": {},
   "outputs": [
    {
     "data": {
      "text/plain": [
       "b'0x47525A0E841878018D50310AC24010BC48128344C122085A982236FEC02708766A6575E881093117EE249FF04BF6FE435F6023584814338B7AA0B8C5EDECCECEEEED32F6B441E558ADACEC86D88926E3E90CC131A02A99031DE0C32F7AB2AC6924E67F0A7BB69178CDEE7A06653500462D83090DCF30AD341AB449582F84D2B1CC109EE1E94C2EE457C41F67EAD3BF9C0D4FA4A2DE34E48D8EB3DFF45249A22380A103E02B910AAE1F4F215292F0345F73DA951AB95AA898538D95D02E3E80BDE25B01EC7582DD6971D9B33B01944B4B'"
      ]
     },
     "execution_count": 5,
     "metadata": {},
     "output_type": "execute_result"
    }
   ],
   "source": [
    "gr.evalb(\"\"\"\n",
    "    compile = op(script){{op:op()(script),version:$sys().getenv($VERSION)}.encode(\"ZIP-GRAPA\")};\n",
    "    v = compile(\"10;\");\n",
    "    v;\n",
    "    \"\"\")"
   ]
  },
  {
   "cell_type": "code",
   "execution_count": 2,
   "id": "fc50c5a8",
   "metadata": {},
   "outputs": [
    {
     "name": "stdout",
     "output_type": "stream",
     "text": [
      "1\n"
     ]
    }
   ],
   "source": [
    "gr.evalb(\"\"\"\n",
    "    compile = op(script){{op:op()(script),version:$sys().getenv($VERSION)}.encode(\"ZIP-GRAPA\")};\n",
    "    v = compile(\"10;\");\n",
    "    v;\n",
    "    \"\"\")"
   ]
  },
  {
   "cell_type": "code",
   "execution_count": null,
   "id": "9c248341",
   "metadata": {},
   "outputs": [],
   "source": []
  },
  {
   "cell_type": "code",
   "execution_count": null,
   "id": "45e36478",
   "metadata": {},
   "outputs": [],
   "source": [
    "gr.eval(\"\"\"\n",
    "    d = $file().get('flinks1/MARY_WARD_Cdocs3247802_09222021_1710PM.json').str();\n",
    "    d.json();\n",
    "    \"\"\")"
   ]
  },
  {
   "cell_type": "code",
   "execution_count": null,
   "id": "94e02794",
   "metadata": {},
   "outputs": [],
   "source": [
    "gr.eval(\"\"\"\n",
    "    name = 'flinks1';\n",
    "    fileList = $file().ls(name).reduce(op(a,b){a+=b.'$KEY';},[]);\n",
    "    \"\"\")"
   ]
  },
  {
   "cell_type": "code",
   "execution_count": null,
   "id": "85e379bb",
   "metadata": {},
   "outputs": [],
   "source": [
    "gr.eval(\"\"\"\n",
    "    fileResult = fileList.split(80)[0].reduce(op(a,b){\n",
    "        $local.d = $file().get(name+'/'+b);\n",
    "        $local.p = d.json();\n",
    "    },[]);\n",
    "    \"\"\")"
   ]
  },
  {
   "cell_type": "code",
   "execution_count": 4,
   "id": "f683f73e",
   "metadata": {},
   "outputs": [
    {
     "data": {
      "text/plain": [
       "'AARON_MACNEIL_Cdocs3500423_12162021_1630PM.json'"
      ]
     },
     "execution_count": 4,
     "metadata": {},
     "output_type": "execute_result"
    }
   ],
   "source": [
    "gr.eval(\"\"\"\n",
    "    fileList[0];\n",
    "    \"\"\")"
   ]
  },
  {
   "cell_type": "code",
   "execution_count": null,
   "id": "e479826c",
   "metadata": {},
   "outputs": [],
   "source": [
    "gr.eval(\"\"\"\n",
    "    d = $file().get(name+'/'+'AARON_MACNEIL_Cdocs3500423_12162021_1630PM.json').str();\n",
    "    d.json();\n",
    "    \"\"\")"
   ]
  },
  {
   "cell_type": "code",
   "execution_count": null,
   "id": "c068bd5a",
   "metadata": {},
   "outputs": [],
   "source": [
    "gr.eval(\"\"\"\n",
    "    fileResult = fileList.reduce(op(a,b){\n",
    "        $local.d = $file().get(name+'/'+b).json();\n",
    "        a += {\n",
    "            file:b,\n",
    "            cduid:d.cduid,\n",
    "            customerDocumentcduid:d.customerDocumentcduid,\n",
    "            RequestId:d.RequestId,\n",
    "            Institution:d.Institution,\n",
    "            PhoneNumber:d.Accounts[0].Holder.PhoneNumber,\n",
    "            Email:d.Accounts[0].Holder.Email,\n",
    "            PostalCode:d.Accounts[0].Holder.Address.PostalCode,\n",
    "            Province:d.Accounts[0].Holder.Address.Province,\n",
    "            City:d.Accounts[0].Holder.Address.City,\n",
    "            CivicAddress:d.Accounts[0].Holder.Address.CivicAddress,\n",
    "            Name:d.Accounts[0].Holder.Name\n",
    "        };\n",
    "    },[]);\n",
    "    \"\"\")"
   ]
  },
  {
   "cell_type": "code",
   "execution_count": null,
   "id": "b4aacf80",
   "metadata": {},
   "outputs": [],
   "source": []
  },
  {
   "cell_type": "code",
   "execution_count": null,
   "id": "a392e9a6",
   "metadata": {},
   "outputs": [],
   "source": [
    "gr.eval(\"\"\"\n",
    "    fileResult.vector().str(['\\n',',']).setfile($file(),name+'.csv');\n",
    "    \"\"\")"
   ]
  },
  {
   "cell_type": "code",
   "execution_count": null,
   "id": "93a93c8c",
   "metadata": {},
   "outputs": [],
   "source": []
  },
  {
   "cell_type": "code",
   "execution_count": null,
   "id": "a62a11d4",
   "metadata": {},
   "outputs": [],
   "source": []
  }
 ],
 "metadata": {
  "kernelspec": {
   "display_name": "Python 3 (ipykernel)",
   "language": "python",
   "name": "python3"
  },
  "language_info": {
   "codemirror_mode": {
    "name": "ipython",
    "version": 3
   },
   "file_extension": ".py",
   "mimetype": "text/x-python",
   "name": "python",
   "nbconvert_exporter": "python",
   "pygments_lexer": "ipython3",
   "version": "3.10.6"
  }
 },
 "nbformat": 4,
 "nbformat_minor": 5
}
