{
 "cells": [
  {
   "cell_type": "code",
   "execution_count": 1,
   "id": "78f56daf",
   "metadata": {},
   "outputs": [
    {
     "data": {
      "text/plain": [
       "'210.5612696743043090739172698565538965143180116634'"
      ]
     },
     "execution_count": 1,
     "metadata": {},
     "output_type": "execute_result"
    }
   ],
   "source": [
    "import grapapy\n",
    "xy = grapapy.new()\n",
    "xy.eval(\"x = 3.45; y = 4.32; x**y;\")"
   ]
  },
  {
   "cell_type": "code",
   "execution_count": 2,
   "id": "cb21a7c7",
   "metadata": {},
   "outputs": [
    {
     "data": {
      "text/plain": [
       "'10'"
      ]
     },
     "execution_count": 2,
     "metadata": {},
     "output_type": "execute_result"
    }
   ],
   "source": [
    "xy.eval(\"10\",\"\",\"$function\")"
   ]
  },
  {
   "cell_type": "code",
   "execution_count": 3,
   "id": "edea3bbf",
   "metadata": {},
   "outputs": [],
   "source": [
    "x = xy.evalb(\"\"\"\n",
    "$sys().compile(\"10;\")\n",
    "\"\"\")"
   ]
  },
  {
   "cell_type": "code",
   "execution_count": 4,
   "id": "e677122d",
   "metadata": {},
   "outputs": [
    {
     "data": {
      "text/plain": [
       "b'GRZ\\x0e\\x84\\x18x\\x01\\x8dPA\\n\\xc2@\\x0c\\xdcJ[\\x8bT\\xc1\\x83\\x14\\xda\\x83=T\\x10\\x1f \\xf8\\x04\\xc1\\x9b\\xfa\\x80E\\x17l\\xa9\\xdd\\xb2+\\xfd\\x83/\\xf3\\x1f\\xfe\\xc0\\xa3\\x07\\xa9b\\'\\xa8\\x0b\\x8a9l&\\x99L\\xb2\\tcO\\x1b5\\x8e\\xb5\\xea\\xc6n\\x88\\x9dd1_\\xae\\x10\\x9c\\x07T%K\\xa0\\x13|\\xfcEOVt\\x8d\\xc4\\xfaOad\\x1b\\x89\\xd7\\xec\\xd03(\\xab\\x030\\xeb\\x19Llx\\x86i\\xb5\\xd1\\xa0O\\xc2v%\\x94Ne\\x81\\xf0\\x02Ogr!\\xbf\"\\xfe8\\xd3\\x90\\xfe\\xe5\\xecy&\\x15\\xf5\\xa6!otZ\\xfc\\xa67J\\x12\\x9d\\x00L\\x1c\\x00_\\x89\\\\p\\xfdx*\\x91\\x93\\x84\\xe7\\xe5\\x8e\\xd3\\xae\\xd4\\xc8\\xd5B\\xa5\\x9cj\\xac\\x8cv\\xf1\\x01\\xec-?\\x08`/\\x08\\xa2c8\\x9e\\xb2;\\xf8\\xb7H\\xee'"
      ]
     },
     "execution_count": 4,
     "metadata": {},
     "output_type": "execute_result"
    }
   ],
   "source": [
    "x"
   ]
  },
  {
   "cell_type": "code",
   "execution_count": 5,
   "id": "5e19b199",
   "metadata": {},
   "outputs": [
    {
     "data": {
      "text/plain": [
       "'10'"
      ]
     },
     "execution_count": 5,
     "metadata": {},
     "output_type": "execute_result"
    }
   ],
   "source": [
    "xy.exec(x)"
   ]
  },
  {
   "cell_type": "code",
   "execution_count": 6,
   "id": "b54ef46d",
   "metadata": {},
   "outputs": [
    {
     "data": {
      "text/plain": [
       "b'GRZ\\x0e\\x84\\x18x\\x01\\x8dPA\\n\\xc2@\\x0c\\xdcJ[\\x8bT\\xc1\\x83\\x14\\xda\\x83=T\\x10\\x1f \\xf8\\x04\\xc1\\x9b\\xfa\\x80E\\x17l\\xa9\\xdd\\xb2+\\xfd\\x83/\\xf3\\x1f\\xfe\\xc0\\xa3\\x07\\xa9b\\'\\xa8\\x0b\\x8a9l&\\x99L\\xb2\\tcO\\x1b5\\x8e\\xb5\\xea\\xc6n\\x88\\x9dd1_\\xae\\x10\\x9c\\x07T%K\\xa0\\x13|\\xfcEOVt\\x8d\\xc4\\xfaOad\\x1b\\x89\\xd7\\xec\\xd03(\\xab\\x030\\xeb\\x19Llx\\x86i\\xb5\\xd1\\xa0O\\xc2v%\\x94Ne\\x81\\xf0\\x02Ogr!\\xbf\"\\xfe8\\xd3\\x90\\xfe\\xe5\\xecy&\\x15\\xf5\\xa6!otZ\\xfc\\xa67J\\x12\\x9d\\x00L\\x1c\\x00_\\x89\\\\p\\xfdx*\\x91\\x93\\x84\\xe7\\xe5\\x8e\\xd3\\xae\\xd4\\xc8\\xd5B\\xa5\\x9cj\\xac\\x8cv\\xf1\\x01\\xec-?\\x08`/\\x08\\xa2c8\\x9e\\xb2;\\xf8\\xb7H\\xee'"
      ]
     },
     "execution_count": 6,
     "metadata": {},
     "output_type": "execute_result"
    }
   ],
   "source": [
    "xy.evalb(\"\"\"\n",
    "    @$ARG;\n",
    "\"\"\",x)"
   ]
  },
  {
   "cell_type": "code",
   "execution_count": 7,
   "id": "3a4bab52",
   "metadata": {},
   "outputs": [
    {
     "data": {
      "text/plain": [
       "'10'"
      ]
     },
     "execution_count": 7,
     "metadata": {},
     "output_type": "execute_result"
    }
   ],
   "source": [
    "xy.eval(\"\"\"\n",
    "    $sys().exec(@$ARG);\n",
    "\"\"\",x)"
   ]
  },
  {
   "cell_type": "code",
   "execution_count": 8,
   "id": "75e3c6b6",
   "metadata": {},
   "outputs": [],
   "source": [
    "v = xy.evalb(\"\"\"\n",
    "    c = $sys().compile(\"'hi';\");\n",
    "    $sys().exec(c);\n",
    "\"\"\")"
   ]
  },
  {
   "cell_type": "code",
   "execution_count": 9,
   "id": "caa65926",
   "metadata": {},
   "outputs": [
    {
     "data": {
      "text/plain": [
       "b'hi'"
      ]
     },
     "execution_count": 9,
     "metadata": {},
     "output_type": "execute_result"
    }
   ],
   "source": [
    "v"
   ]
  },
  {
   "cell_type": "code",
   "execution_count": 10,
   "id": "a1b2d6c5",
   "metadata": {},
   "outputs": [
    {
     "data": {
      "text/plain": [
       "'10'"
      ]
     },
     "execution_count": 10,
     "metadata": {},
     "output_type": "execute_result"
    }
   ],
   "source": [
    "xy.exec(x)"
   ]
  },
  {
   "cell_type": "code",
   "execution_count": 11,
   "id": "a1479c87",
   "metadata": {},
   "outputs": [
    {
     "data": {
      "text/plain": [
       "b'GRZ\\x0e\\x84\\x18x\\x01\\x8dPA\\n\\xc2@\\x0c\\xdcJ[\\x8bT\\xc1\\x83\\x14\\xda\\x83=T\\x10\\x1f \\xf8\\x04\\xc1\\x9b\\xfa\\x80E\\x17l\\xa9\\xdd\\xb2+\\xfd\\x83/\\xf3\\x1f\\xfe\\xc0\\xa3\\x07\\xa9b\\'\\xa8\\x0b\\x8a9l&\\x99L\\xb2\\tcO\\x1b5\\x8e\\xb5\\xea\\xc6n\\x88\\x9dd1_\\xae\\x10\\x9c\\x07T%K\\xa0\\x13|\\xfcEOVt\\x8d\\xc4\\xfaOad\\x1b\\x89\\xd7\\xec\\xd03(\\xab\\x030\\xeb\\x19Llx\\x86i\\xb5\\xd1\\xa0O\\xc2v%\\x94Ne\\x81\\xf0\\x02Ogr!\\xbf\"\\xfe8\\xd3\\x90\\xfe\\xe5\\xecy&\\x15\\xf5\\xa6!otZ\\xfc\\xa67J\\x12\\x9d\\x00L\\x1c\\x00_\\x89\\\\p\\xfdx*\\x91\\x93\\x84\\xe7\\xe5\\x8e\\xd3\\xae\\xd4\\xc8\\xd5B\\xa5\\x9cj\\xac\\x8cv\\xf1\\x01\\xec-?\\x08`/\\x08\\xa2c8\\x9e\\xb2;\\xf8\\xb7H\\xee'"
      ]
     },
     "execution_count": 11,
     "metadata": {},
     "output_type": "execute_result"
    }
   ],
   "source": [
    "x"
   ]
  },
  {
   "cell_type": "code",
   "execution_count": 12,
   "id": "bb485ecd",
   "metadata": {},
   "outputs": [
    {
     "name": "stdout",
     "output_type": "stream",
     "text": [
      "hi\n"
     ]
    },
    {
     "data": {
      "text/plain": [
       "''"
      ]
     },
     "execution_count": 12,
     "metadata": {},
     "output_type": "execute_result"
    }
   ],
   "source": [
    "xy.eval(\"\"\"\n",
    "$py().eval(\"print(\\\\\"hi\\\\\")\");\n",
    "\"\"\")"
   ]
  },
  {
   "cell_type": "code",
   "execution_count": 13,
   "id": "e0647a88",
   "metadata": {},
   "outputs": [],
   "source": [
    "def absolute_value(num):\n",
    "    if num >= 0:\n",
    "        return num*10\n",
    "    else:\n",
    "        return -num*20"
   ]
  },
  {
   "cell_type": "code",
   "execution_count": 14,
   "id": "018a4fef",
   "metadata": {},
   "outputs": [
    {
     "data": {
      "text/plain": [
       "100"
      ]
     },
     "execution_count": 14,
     "metadata": {},
     "output_type": "execute_result"
    }
   ],
   "source": [
    "absolute_value(-5)"
   ]
  },
  {
   "cell_type": "code",
   "execution_count": 15,
   "id": "7c06ebd3",
   "metadata": {},
   "outputs": [
    {
     "data": {
      "text/plain": [
       "''"
      ]
     },
     "execution_count": 15,
     "metadata": {},
     "output_type": "execute_result"
    }
   ],
   "source": [
    "xy.eval(\"\"\"\n",
    "    absolute_value = op(n=0){$py().eval(\"absolute_value(\"+n.str()+\")\",\"int\");};\n",
    "\"\"\")"
   ]
  },
  {
   "cell_type": "code",
   "execution_count": 16,
   "id": "b8193d2c",
   "metadata": {},
   "outputs": [
    {
     "data": {
      "text/plain": [
       "'100'"
      ]
     },
     "execution_count": 16,
     "metadata": {},
     "output_type": "execute_result"
    }
   ],
   "source": [
    "xy.eval(\"\"\"\n",
    "    absolute_value(-5);\n",
    "\"\"\")"
   ]
  },
  {
   "cell_type": "code",
   "execution_count": null,
   "id": "f9a06e51",
   "metadata": {},
   "outputs": [],
   "source": []
  },
  {
   "cell_type": "code",
   "execution_count": null,
   "id": "bb65a93f",
   "metadata": {},
   "outputs": [],
   "source": []
  }
 ],
 "metadata": {
  "kernelspec": {
   "display_name": "Python 3 (ipykernel)",
   "language": "python",
   "name": "python3"
  },
  "language_info": {
   "codemirror_mode": {
    "name": "ipython",
    "version": 3
   },
   "file_extension": ".py",
   "mimetype": "text/x-python",
   "name": "python",
   "nbconvert_exporter": "python",
   "pygments_lexer": "ipython3",
   "version": "3.10.6"
  }
 },
 "nbformat": 4,
 "nbformat_minor": 5
}
