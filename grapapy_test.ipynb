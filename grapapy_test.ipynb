{
 "cells": [
  {
   "cell_type": "code",
   "execution_count": 1,
   "id": "78f56daf",
   "metadata": {},
   "outputs": [
    {
     "data": {
      "text/plain": [
       "210.5612696743043"
      ]
     },
     "execution_count": 1,
     "metadata": {},
     "output_type": "execute_result"
    }
   ],
   "source": [
    "import grapapy\n",
    "xy = grapapy.grapa()\n",
    "xy.eval(\"x = 3.45; y = 4.32; x**y;\")"
   ]
  },
  {
   "cell_type": "code",
   "execution_count": 7,
   "id": "cb21a7c7",
   "metadata": {},
   "outputs": [
    {
     "data": {
      "text/plain": [
       "10"
      ]
     },
     "execution_count": 7,
     "metadata": {},
     "output_type": "execute_result"
    }
   ],
   "source": [
    "xy.eval(\"10\",\"\",\"$function\")"
   ]
  },
  {
   "cell_type": "code",
   "execution_count": 8,
   "id": "f48bf68f",
   "metadata": {},
   "outputs": [
    {
     "data": {
      "text/plain": [
       "55"
      ]
     },
     "execution_count": 8,
     "metadata": {},
     "output_type": "execute_result"
    }
   ],
   "source": [
    "grapapy.eval(\"55;\")"
   ]
  },
  {
   "cell_type": "code",
   "execution_count": 4,
   "id": "edea3bbf",
   "metadata": {},
   "outputs": [],
   "source": [
    "x = xy.eval(\"\"\"\n",
    "$sys().compile(\"10;\")\n",
    "\"\"\")"
   ]
  },
  {
   "cell_type": "code",
   "execution_count": 5,
   "id": "e677122d",
   "metadata": {},
   "outputs": [
    {
     "data": {
      "text/plain": [
       "b'GRZ\\x0e\\x84\\x18x\\x01\\x8dP\\xb1\\n\\xc2@\\x0c\\xbdJ[\\x8bT\\xc1A\\n:\\xd8\\xa1.\\xfe\\x81\\x9f \\xb8\\xa9\\xabp\\xe8\\x81Wj\\xaf\\\\\\xa5\\x83?\\xe8/8\\xfb\\x07\\xba9H\\x15\\xfb\\x82z\\xa04\\xc3\\xe5%//\\xb9\\x84\\xb1\\x97\\x8d*\\xc7\\x1aeew\\xc4N4\\x9b\\xce\\x17\\x08\\xce=\\xaaR\\x19\\xd0\\x11>\\xfc\\xa1\\'K\\xdbFbYS8\\xb0\\x8d\\xc4{v\\xdf3(\\xab\\x050\\xe9\\x18Lhx\\x86i\\xa5\\xd1\\xa0K\\xc2f!t.U\\x8a\\xf0\\x02Ogr!\\xbf!\\xfe:\\xd3\\x90\\xfe\\xe5\\xecx\\xac4\\xf5\\xa6!\\x1f\\xb4L\\xff\\xd3k\\xad\\x88\\x8e\\x00\\xc6\\x0e\\x80\\xafE\"x\\xfe|\\n\\x91\\x90\\x84\\'\\xd9\\x96\\xd3\\xae\\xd4\\xc8\\xcd\\x85\\x96\\x9cj\\xac\\x98v\\xf1\\x01\\xec\\r\\xdf\\x0b`/\\x08NWyX\\xb1\\x07\\x01\\xc3J\\xdd'"
      ]
     },
     "execution_count": 5,
     "metadata": {},
     "output_type": "execute_result"
    }
   ],
   "source": [
    "x"
   ]
  },
  {
   "cell_type": "code",
   "execution_count": 6,
   "id": "5e19b199",
   "metadata": {},
   "outputs": [
    {
     "data": {
      "text/plain": [
       "10"
      ]
     },
     "execution_count": 6,
     "metadata": {},
     "output_type": "execute_result"
    }
   ],
   "source": [
    "xy.eval(x)"
   ]
  },
  {
   "cell_type": "code",
   "execution_count": 7,
   "id": "b54ef46d",
   "metadata": {},
   "outputs": [
    {
     "data": {
      "text/plain": [
       "b'GRZ\\x0e\\x84\\x18x\\x01\\x8dP\\xb1\\n\\xc2@\\x0c\\xbdJ[\\x8bT\\xc1A\\n:\\xd8\\xa1.\\xfe\\x81\\x9f \\xb8\\xa9\\xabp\\xe8\\x81Wj\\xaf\\\\\\xa5\\x83?\\xe8/8\\xfb\\x07\\xba9H\\x15\\xfb\\x82z\\xa04\\xc3\\xe5%//\\xb9\\x84\\xb1\\x97\\x8d*\\xc7\\x1aeew\\xc4N4\\x9b\\xce\\x17\\x08\\xce=\\xaaR\\x19\\xd0\\x11>\\xfc\\xa1\\'K\\xdbFbYS8\\xb0\\x8d\\xc4{v\\xdf3(\\xab\\x050\\xe9\\x18Lhx\\x86i\\xa5\\xd1\\xa0K\\xc2f!t.U\\x8a\\xf0\\x02Ogr!\\xbf!\\xfe:\\xd3\\x90\\xfe\\xe5\\xecx\\xac4\\xf5\\xa6!\\x1f\\xb4L\\xff\\xd3k\\xad\\x88\\x8e\\x00\\xc6\\x0e\\x80\\xafE\"x\\xfe|\\n\\x91\\x90\\x84\\'\\xd9\\x96\\xd3\\xae\\xd4\\xc8\\xcd\\x85\\x96\\x9cj\\xac\\x98v\\xf1\\x01\\xec\\r\\xdf\\x0b`/\\x08NWyX\\xb1\\x07\\x01\\xc3J\\xdd'"
      ]
     },
     "execution_count": 7,
     "metadata": {},
     "output_type": "execute_result"
    }
   ],
   "source": [
    "xy.eval(\"\"\"\n",
    "    @$ARG;\n",
    "\"\"\",x)"
   ]
  },
  {
   "cell_type": "code",
   "execution_count": 8,
   "id": "3a4bab52",
   "metadata": {},
   "outputs": [
    {
     "data": {
      "text/plain": [
       "10"
      ]
     },
     "execution_count": 8,
     "metadata": {},
     "output_type": "execute_result"
    }
   ],
   "source": [
    "xy.eval(\"\"\"\n",
    "    $sys().exec(@$ARG);\n",
    "\"\"\",x)"
   ]
  },
  {
   "cell_type": "code",
   "execution_count": 10,
   "id": "75e3c6b6",
   "metadata": {},
   "outputs": [],
   "source": [
    "v = xy.eval(\"\"\"\n",
    "    c = $sys().compile(\"'hi';\");\n",
    "    $sys().exec(c);\n",
    "\"\"\")"
   ]
  },
  {
   "cell_type": "code",
   "execution_count": 11,
   "id": "caa65926",
   "metadata": {},
   "outputs": [
    {
     "data": {
      "text/plain": [
       "'hi'"
      ]
     },
     "execution_count": 11,
     "metadata": {},
     "output_type": "execute_result"
    }
   ],
   "source": [
    "v"
   ]
  },
  {
   "cell_type": "code",
   "execution_count": 13,
   "id": "a1b2d6c5",
   "metadata": {},
   "outputs": [
    {
     "data": {
      "text/plain": [
       "10"
      ]
     },
     "execution_count": 13,
     "metadata": {},
     "output_type": "execute_result"
    }
   ],
   "source": [
    "xy.eval(x)"
   ]
  },
  {
   "cell_type": "code",
   "execution_count": 14,
   "id": "a1479c87",
   "metadata": {},
   "outputs": [
    {
     "data": {
      "text/plain": [
       "b'GRZ\\x0e\\x84\\x18x\\x01\\x8dP\\xb1\\n\\xc2@\\x0c\\xbdJ[\\x8bT\\xc1A\\n:\\xd8\\xa1.\\xfe\\x81\\x9f \\xb8\\xa9\\xabp\\xe8\\x81Wj\\xaf\\\\\\xa5\\x83?\\xe8/8\\xfb\\x07\\xba9H\\x15\\xfb\\x82z\\xa04\\xc3\\xe5%//\\xb9\\x84\\xb1\\x97\\x8d*\\xc7\\x1aeew\\xc4N4\\x9b\\xce\\x17\\x08\\xce=\\xaaR\\x19\\xd0\\x11>\\xfc\\xa1\\'K\\xdbFbYS8\\xb0\\x8d\\xc4{v\\xdf3(\\xab\\x050\\xe9\\x18Lhx\\x86i\\xa5\\xd1\\xa0K\\xc2f!t.U\\x8a\\xf0\\x02Ogr!\\xbf!\\xfe:\\xd3\\x90\\xfe\\xe5\\xecx\\xac4\\xf5\\xa6!\\x1f\\xb4L\\xff\\xd3k\\xad\\x88\\x8e\\x00\\xc6\\x0e\\x80\\xafE\"x\\xfe|\\n\\x91\\x90\\x84\\'\\xd9\\x96\\xd3\\xae\\xd4\\xc8\\xcd\\x85\\x96\\x9cj\\xac\\x98v\\xf1\\x01\\xec\\r\\xdf\\x0b`/\\x08NWyX\\xb1\\x07\\x01\\xc3J\\xdd'"
      ]
     },
     "execution_count": 14,
     "metadata": {},
     "output_type": "execute_result"
    }
   ],
   "source": [
    "x"
   ]
  },
  {
   "cell_type": "code",
   "execution_count": 15,
   "id": "bb485ecd",
   "metadata": {},
   "outputs": [
    {
     "name": "stdout",
     "output_type": "stream",
     "text": [
      "hi\n"
     ]
    }
   ],
   "source": [
    "xy.eval(\"\"\"\n",
    "$py().eval(\"print(\\\\\"hi\\\\\")\");\n",
    "\"\"\")"
   ]
  },
  {
   "cell_type": "code",
   "execution_count": 1,
   "id": "3bd1e92a",
   "metadata": {},
   "outputs": [
    {
     "data": {
      "text/plain": [
       "210.5612696743043"
      ]
     },
     "execution_count": 1,
     "metadata": {},
     "output_type": "execute_result"
    }
   ],
   "source": [
    "import grapapy\n",
    "xy = grapapy.grapa()\n",
    "xy.eval(\"x = 3.45; y = 4.32; x**y;\")"
   ]
  },
  {
   "cell_type": "code",
   "execution_count": 9,
   "id": "e0647a88",
   "metadata": {},
   "outputs": [],
   "source": [
    "def absolute_value(num):\n",
    "    if num >= 0:\n",
    "        return (1,2,(3,4,5),5);\n",
    "    else:\n",
    "        return -num*20"
   ]
  },
  {
   "cell_type": "code",
   "execution_count": 10,
   "id": "018a4fef",
   "metadata": {},
   "outputs": [
    {
     "data": {
      "text/plain": [
       "(1, 2, (3, 4, 5), 5)"
      ]
     },
     "execution_count": 10,
     "metadata": {},
     "output_type": "execute_result"
    }
   ],
   "source": [
    "absolute_value(5)"
   ]
  },
  {
   "cell_type": "code",
   "execution_count": 11,
   "id": "7c06ebd3",
   "metadata": {},
   "outputs": [],
   "source": [
    "xy.eval(\"\"\"\n",
    "    absolute_value = op(n=0){$py().eval(\"absolute_value(\"+n.str()+\")\");};\n",
    "\"\"\")"
   ]
  },
  {
   "cell_type": "code",
   "execution_count": 12,
   "id": "b8193d2c",
   "metadata": {},
   "outputs": [
    {
     "data": {
      "text/plain": [
       "(1, 2, (3, 4, 5), 5)"
      ]
     },
     "execution_count": 12,
     "metadata": {},
     "output_type": "execute_result"
    }
   ],
   "source": [
    "xy.eval(\"\"\"\n",
    "    absolute_value(5);\n",
    "\"\"\")"
   ]
  },
  {
   "cell_type": "code",
   "execution_count": 6,
   "id": "f9a06e51",
   "metadata": {},
   "outputs": [
    {
     "data": {
      "text/plain": [
       "{'ab': 6, 'b': [4.45, 'g']}"
      ]
     },
     "execution_count": 6,
     "metadata": {},
     "output_type": "execute_result"
    }
   ],
   "source": [
    "xy.eval(\"\"\"\n",
    "    {'ab':6,b:[4.45,'g']};\n",
    "\"\"\")"
   ]
  },
  {
   "cell_type": "code",
   "execution_count": 7,
   "id": "bb65a93f",
   "metadata": {},
   "outputs": [
    {
     "data": {
      "text/plain": [
       "(1, 2, [3, 4, 5], None)"
      ]
     },
     "execution_count": 7,
     "metadata": {},
     "output_type": "execute_result"
    }
   ],
   "source": [
    "xy.eval(\"\"\"\n",
    "    (1,2,[3,4,5],null);\n",
    "\"\"\")"
   ]
  },
  {
   "cell_type": "code",
   "execution_count": 8,
   "id": "eea511f1",
   "metadata": {},
   "outputs": [
    {
     "data": {
      "text/plain": [
       "[1, 2, [3, 4, 5], 5]"
      ]
     },
     "execution_count": 8,
     "metadata": {},
     "output_type": "execute_result"
    }
   ],
   "source": [
    "xy.eval(\"\"\"\n",
    "    [1,2,[3,4,5],5];\n",
    "\"\"\")"
   ]
  },
  {
   "cell_type": "code",
   "execution_count": 2,
   "id": "901e418f",
   "metadata": {},
   "outputs": [
    {
     "ename": "SyntaxError",
     "evalue": "cannot assign to literal here. Maybe you meant '==' instead of '='? (3838034325.py, line 1)",
     "output_type": "error",
     "traceback": [
      "\u001b[1;36m  Input \u001b[1;32mIn [2]\u001b[1;36m\u001b[0m\n\u001b[1;33m    ('a'=5,'b'=2)\u001b[0m\n\u001b[1;37m     ^\u001b[0m\n\u001b[1;31mSyntaxError\u001b[0m\u001b[1;31m:\u001b[0m cannot assign to literal here. Maybe you meant '==' instead of '='?\n"
     ]
    }
   ],
   "source": [
    "('a'=5,'b'=2)"
   ]
  },
  {
   "cell_type": "code",
   "execution_count": null,
   "id": "b586c38e",
   "metadata": {},
   "outputs": [],
   "source": [
    "a"
   ]
  },
  {
   "cell_type": "code",
   "execution_count": null,
   "id": "77b6f6af",
   "metadata": {},
   "outputs": [],
   "source": []
  }
 ],
 "metadata": {
  "kernelspec": {
   "display_name": "Python 3 (ipykernel)",
   "language": "python",
   "name": "python3"
  },
  "language_info": {
   "codemirror_mode": {
    "name": "ipython",
    "version": 3
   },
   "file_extension": ".py",
   "mimetype": "text/x-python",
   "name": "python",
   "nbconvert_exporter": "python",
   "pygments_lexer": "ipython3",
   "version": "3.10.6"
  }
 },
 "nbformat": 4,
 "nbformat_minor": 5
}
