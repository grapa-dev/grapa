{
 "cells": [
  {
   "cell_type": "code",
   "execution_count": 1,
   "id": "78f56daf",
   "metadata": {},
   "outputs": [
    {
     "data": {
      "text/plain": [
       "'210.5612696743043090739172698565538965143180116634'"
      ]
     },
     "execution_count": 1,
     "metadata": {},
     "output_type": "execute_result"
    }
   ],
   "source": [
    "import grapapy\n",
    "xy = grapapy.new()\n",
    "xy.eval(\"x = 3.45; y = 4.32; x**y;\")"
   ]
  },
  {
   "cell_type": "code",
   "execution_count": 2,
   "id": "f8574490",
   "metadata": {},
   "outputs": [
    {
     "data": {
      "text/plain": [
       "b'hi'"
      ]
     },
     "execution_count": 2,
     "metadata": {},
     "output_type": "execute_result"
    }
   ],
   "source": [
    "xy.evalb(\"'hi';\")"
   ]
  },
  {
   "cell_type": "code",
   "execution_count": 3,
   "id": "edea3bbf",
   "metadata": {},
   "outputs": [],
   "source": [
    "x = xy.evalb(\"\"\"\n",
    "$sys().compile(\"10;\")\n",
    "\"\"\")"
   ]
  },
  {
   "cell_type": "code",
   "execution_count": 4,
   "id": "e677122d",
   "metadata": {},
   "outputs": [
    {
     "data": {
      "text/plain": [
       "b'GRZ\\x0e\\x84\\x18x\\x01\\x8dPA\\n\\xc20\\x10L\\xa5\\xadE\\xaa\\xe0\\xa1\\x08z\\xb0\\x87z\\xf1\\x07>A\\x10/\\xea\\x03\\x82\\x06L\\xa9MI\\xa4_\\xf4\\x15\\xbd\\xf8\\x03\\x8f\\x1e\\xa4\\x8a\\x9dE\\r(\\xee!;\\xbb\\xb3\\xb3\\x9b]\\xc6\\x9e6i\\x1ck\\xd5\\x8d\\xdd\\x10{\\xc9b\\xbeZ#8GT\\xa5\\n\\xa0\\x13|\\xfcEO\\x96w\\xad\\xc4\\xe6O\\xe1\\xc8\\xb5\\x12\\xaf\\xd9\\xc3\\xc0\\xa2\\x9c\\x0e\\xc0\\xacg1\\xb1\\xe5\\x19\\xa6\\xd5V\\x83>\\t\\xdb\\xa5\\xd0F\\xaa\\x1c\\xe1\\x05\\x9e\\xce\\xe4C~E\\xfcq\\xa61\\xfd\\xcb;\\xf0Ti\\xeaMC\\xdeh\\x99\\xff\\xa6\\xb7Z\\x11\\x9d\\x00L=\\x80P\\x8bLp\\xf3xJ\\x91\\x91\\x84g\\xc5\\x9e\\xd3\\xae\\xd4\\xc87BKN5NJ\\xbb\\x84\\x00\\xee\\x8e\\x1f\\x05p0\\x88\\xaa*\\x92Kv\\x07\\xff\\xb8JV'"
      ]
     },
     "execution_count": 4,
     "metadata": {},
     "output_type": "execute_result"
    }
   ],
   "source": [
    "x"
   ]
  },
  {
   "cell_type": "code",
   "execution_count": 5,
   "id": "5e19b199",
   "metadata": {},
   "outputs": [
    {
     "data": {
      "text/plain": [
       "'10'"
      ]
     },
     "execution_count": 5,
     "metadata": {},
     "output_type": "execute_result"
    }
   ],
   "source": [
    "xy.exec(x)"
   ]
  },
  {
   "cell_type": "code",
   "execution_count": 6,
   "id": "b54ef46d",
   "metadata": {},
   "outputs": [
    {
     "data": {
      "text/plain": [
       "b'GRZ\\x0e\\x84\\x18x\\x01\\x8dPA\\n\\xc20\\x10L\\xa5\\xadE\\xaa\\xe0\\xa1\\x08z\\xb0\\x87z\\xf1\\x07>A\\x10/\\xea\\x03\\x82\\x06L\\xa9MI\\xa4_\\xf4\\x15\\xbd\\xf8\\x03\\x8f\\x1e\\xa4\\x8a\\x9dE\\r(\\xee!;\\xbb\\xb3\\xb3\\x9b]\\xc6\\x9e6i\\x1ck\\xd5\\x8d\\xdd\\x10{\\xc9b\\xbeZ#8GT\\xa5\\n\\xa0\\x13|\\xfcEO\\x96w\\xad\\xc4\\xe6O\\xe1\\xc8\\xb5\\x12\\xaf\\xd9\\xc3\\xc0\\xa2\\x9c\\x0e\\xc0\\xacg1\\xb1\\xe5\\x19\\xa6\\xd5V\\x83>\\t\\xdb\\xa5\\xd0F\\xaa\\x1c\\xe1\\x05\\x9e\\xce\\xe4C~E\\xfcq\\xa61\\xfd\\xcb;\\xf0Ti\\xeaMC\\xdeh\\x99\\xff\\xa6\\xb7Z\\x11\\x9d\\x00L=\\x80P\\x8bLp\\xf3xJ\\x91\\x91\\x84g\\xc5\\x9e\\xd3\\xae\\xd4\\xc87BKN5NJ\\xbb\\x84\\x00\\xee\\x8e\\x1f\\x05p0\\x88\\xaa*\\x92Kv\\x07\\xff\\xb8JV'"
      ]
     },
     "execution_count": 6,
     "metadata": {},
     "output_type": "execute_result"
    }
   ],
   "source": [
    "xy.evalb(\"\"\"\n",
    "    @$ARG;\n",
    "\"\"\",x)"
   ]
  },
  {
   "cell_type": "code",
   "execution_count": 7,
   "id": "3a4bab52",
   "metadata": {},
   "outputs": [
    {
     "data": {
      "text/plain": [
       "'10'"
      ]
     },
     "execution_count": 7,
     "metadata": {},
     "output_type": "execute_result"
    }
   ],
   "source": [
    "xy.eval(\"\"\"\n",
    "    $sys().exec(@$ARG);\n",
    "\"\"\",x)"
   ]
  },
  {
   "cell_type": "code",
   "execution_count": 8,
   "id": "75e3c6b6",
   "metadata": {},
   "outputs": [],
   "source": [
    "v = xy.evalb(\"\"\"\n",
    "    c = $sys().compile(\"'hi';\");\n",
    "    $sys().exec(c);\n",
    "\"\"\")"
   ]
  },
  {
   "cell_type": "code",
   "execution_count": 9,
   "id": "caa65926",
   "metadata": {},
   "outputs": [
    {
     "data": {
      "text/plain": [
       "b'hi'"
      ]
     },
     "execution_count": 9,
     "metadata": {},
     "output_type": "execute_result"
    }
   ],
   "source": [
    "v"
   ]
  },
  {
   "cell_type": "code",
   "execution_count": 10,
   "id": "a1b2d6c5",
   "metadata": {},
   "outputs": [
    {
     "data": {
      "text/plain": [
       "'10'"
      ]
     },
     "execution_count": 10,
     "metadata": {},
     "output_type": "execute_result"
    }
   ],
   "source": [
    "xy.exec(x)"
   ]
  },
  {
   "cell_type": "code",
   "execution_count": 11,
   "id": "a1479c87",
   "metadata": {},
   "outputs": [
    {
     "data": {
      "text/plain": [
       "b'GRZ\\x0e\\x84\\x18x\\x01\\x8dPA\\n\\xc20\\x10L\\xa5\\xadE\\xaa\\xe0\\xa1\\x08z\\xb0\\x87z\\xf1\\x07>A\\x10/\\xea\\x03\\x82\\x06L\\xa9MI\\xa4_\\xf4\\x15\\xbd\\xf8\\x03\\x8f\\x1e\\xa4\\x8a\\x9dE\\r(\\xee!;\\xbb\\xb3\\xb3\\x9b]\\xc6\\x9e6i\\x1ck\\xd5\\x8d\\xdd\\x10{\\xc9b\\xbeZ#8GT\\xa5\\n\\xa0\\x13|\\xfcEO\\x96w\\xad\\xc4\\xe6O\\xe1\\xc8\\xb5\\x12\\xaf\\xd9\\xc3\\xc0\\xa2\\x9c\\x0e\\xc0\\xacg1\\xb1\\xe5\\x19\\xa6\\xd5V\\x83>\\t\\xdb\\xa5\\xd0F\\xaa\\x1c\\xe1\\x05\\x9e\\xce\\xe4C~E\\xfcq\\xa61\\xfd\\xcb;\\xf0Ti\\xeaMC\\xdeh\\x99\\xff\\xa6\\xb7Z\\x11\\x9d\\x00L=\\x80P\\x8bLp\\xf3xJ\\x91\\x91\\x84g\\xc5\\x9e\\xd3\\xae\\xd4\\xc87BKN5NJ\\xbb\\x84\\x00\\xee\\x8e\\x1f\\x05p0\\x88\\xaa*\\x92Kv\\x07\\xff\\xb8JV'"
      ]
     },
     "execution_count": 11,
     "metadata": {},
     "output_type": "execute_result"
    }
   ],
   "source": [
    "x"
   ]
  }
 ],
 "metadata": {
  "kernelspec": {
   "display_name": "Python 3 (ipykernel)",
   "language": "python",
   "name": "python3"
  },
  "language_info": {
   "codemirror_mode": {
    "name": "ipython",
    "version": 3
   },
   "file_extension": ".py",
   "mimetype": "text/x-python",
   "name": "python",
   "nbconvert_exporter": "python",
   "pygments_lexer": "ipython3",
   "version": "3.10.7"
  }
 },
 "nbformat": 4,
 "nbformat_minor": 5
}
