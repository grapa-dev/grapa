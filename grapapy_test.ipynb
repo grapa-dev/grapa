{
 "cells": [
  {
   "cell_type": "code",
   "execution_count": null,
   "id": "78f56daf",
   "metadata": {},
   "outputs": [],
   "source": [
    "import grapapy\n",
    "xy = grapapy.new()\n",
    "xy.eval(\"x = 3.45; y = 4.32; x**y;\")"
   ]
  },
  {
   "cell_type": "code",
   "execution_count": null,
   "id": "f8574490",
   "metadata": {},
   "outputs": [],
   "source": [
    "xy.evalb(\"'hi';\")"
   ]
  },
  {
   "cell_type": "code",
   "execution_count": 10,
   "id": "edea3bbf",
   "metadata": {},
   "outputs": [],
   "source": [
    "x = xy.evalb(\"\"\"\n",
    "$sys().compile(\"10;\")\n",
    "\"\"\")"
   ]
  },
  {
   "cell_type": "code",
   "execution_count": 11,
   "id": "e677122d",
   "metadata": {},
   "outputs": [
    {
     "data": {
      "text/plain": [
       "b'GRZ\\x0e\\x84\\x18x\\x01\\x8dPA\\n\\xc2@\\x0c\\xdcJ[\\x8bT\\xc1C\\x11\\xf4`\\x0f\\xf5\\xe2\\x0f|\\x82\\xe0M}\\xc0\\xa2\\x0b\\xb6\\xd6n\\xd9\\x95~\\xd1/x\\x16? x\\xf1 U\\xec\\x04uAi\\x0e\\x9bI&\\x93l\\xc2\\xd8\\xcbF\\x95c\\x8d\\xb2\\xb2;b\\'\\x9aM\\xe7\\x0b\\x04\\xa7\\x80\\xaad\\x0et\\x80\\x0f\\x7f\\xe8\\xc9\\xb2\\xb6\\x91X\\xd6\\x14\\x0el#\\xf1\\x9e\\xdd\\xf7\\x0c\\xcaj\\x01L:\\x06\\x13\\x1a\\x9eaZi4\\xe8\\x92\\xb0Y\\x08\\xa5c\\x99!\\xbc\\xc0\\xd3\\x99\\\\\\xc8o\\x88\\xbf\\xce4\\xa4\\x7f9;\\x9eHE\\xbdi\\xc8\\x07\\x1dg\\xff\\xe9\\x95\\x92DG\\x00c\\x07\\xc0W\"\\x15\\\\?\\x9fB\\xa4$\\xe1i\\xbe\\xe1\\xb4+5r\\xb5P1\\xa7\\x1a+\\xa1]|\\x00{\\xcd\\xf7\\x02\\xd8\\xeb\\x05Gk{\\xbe\\xb2\\x07\\xffcJ\\xec'"
      ]
     },
     "execution_count": 11,
     "metadata": {},
     "output_type": "execute_result"
    }
   ],
   "source": [
    "x"
   ]
  },
  {
   "cell_type": "code",
   "execution_count": 12,
   "id": "5e19b199",
   "metadata": {},
   "outputs": [
    {
     "data": {
      "text/plain": [
       "'10'"
      ]
     },
     "execution_count": 12,
     "metadata": {},
     "output_type": "execute_result"
    }
   ],
   "source": [
    "xy.exec(x)"
   ]
  },
  {
   "cell_type": "code",
   "execution_count": 19,
   "id": "b54ef46d",
   "metadata": {},
   "outputs": [
    {
     "data": {
      "text/plain": [
       "b'GRZ\\x0e\\x84\\x18x\\x01\\x8dPA\\n\\xc2@\\x0c\\xdcJ[\\x8bT\\xc1C\\x11\\xf4`\\x0f\\xf5\\xe2\\x0f|\\x82\\xe0M}\\xc0\\xa2\\x0b\\xb6\\xd6n\\xd9\\x95~\\xd1/x\\x16? x\\xf1 U\\xec\\x04uAi\\x0e\\x9bI&\\x93l\\xc2\\xd8\\xcbF\\x95c\\x8d\\xb2\\xb2;b\\'\\x9aM\\xe7\\x0b\\x04\\xa7\\x80\\xaad\\x0et\\x80\\x0f\\x7f\\xe8\\xc9\\xb2\\xb6\\x91X\\xd6\\x14\\x0el#\\xf1\\x9e\\xdd\\xf7\\x0c\\xcaj\\x01L:\\x06\\x13\\x1a\\x9eaZi4\\xe8\\x92\\xb0Y\\x08\\xa5c\\x99!\\xbc\\xc0\\xd3\\x99\\\\\\xc8o\\x88\\xbf\\xce4\\xa4\\x7f9;\\x9eHE\\xbdi\\xc8\\x07\\x1dg\\xff\\xe9\\x95\\x92DG\\x00c\\x07\\xc0W\"\\x15\\\\?\\x9fB\\xa4$\\xe1i\\xbe\\xe1\\xb4+5r\\xb5P1\\xa7\\x1a+\\xa1]|\\x00{\\xcd\\xf7\\x02\\xd8\\xeb\\x05Gk{\\xbe\\xb2\\x07\\xffcJ\\xec'"
      ]
     },
     "execution_count": 19,
     "metadata": {},
     "output_type": "execute_result"
    }
   ],
   "source": [
    "xy.evalb(\"\"\"\n",
    "    @$ARG;\n",
    "\"\"\",x)"
   ]
  },
  {
   "cell_type": "code",
   "execution_count": 14,
   "id": "3a4bab52",
   "metadata": {},
   "outputs": [
    {
     "data": {
      "text/plain": [
       "'10'"
      ]
     },
     "execution_count": 14,
     "metadata": {},
     "output_type": "execute_result"
    }
   ],
   "source": [
    "xy.eval(\"\"\"\n",
    "    $sys().exec(@$ARG);\n",
    "\"\"\",x)"
   ]
  },
  {
   "cell_type": "code",
   "execution_count": 15,
   "id": "75e3c6b6",
   "metadata": {},
   "outputs": [],
   "source": [
    "v = xy.evalb(\"\"\"\n",
    "    c = $sys().compile(\"'hi';\");\n",
    "    $sys().exec(c);\n",
    "\"\"\")"
   ]
  },
  {
   "cell_type": "code",
   "execution_count": 16,
   "id": "caa65926",
   "metadata": {},
   "outputs": [
    {
     "data": {
      "text/plain": [
       "b'hi'"
      ]
     },
     "execution_count": 16,
     "metadata": {},
     "output_type": "execute_result"
    }
   ],
   "source": [
    "v"
   ]
  },
  {
   "cell_type": "code",
   "execution_count": 17,
   "id": "a1b2d6c5",
   "metadata": {},
   "outputs": [
    {
     "data": {
      "text/plain": [
       "'10'"
      ]
     },
     "execution_count": 17,
     "metadata": {},
     "output_type": "execute_result"
    }
   ],
   "source": [
    "xy.exec(x)"
   ]
  },
  {
   "cell_type": "code",
   "execution_count": 18,
   "id": "a1479c87",
   "metadata": {},
   "outputs": [
    {
     "data": {
      "text/plain": [
       "b'GRZ\\x0e\\x84\\x18x\\x01\\x8dPA\\n\\xc2@\\x0c\\xdcJ[\\x8bT\\xc1C\\x11\\xf4`\\x0f\\xf5\\xe2\\x0f|\\x82\\xe0M}\\xc0\\xa2\\x0b\\xb6\\xd6n\\xd9\\x95~\\xd1/x\\x16? x\\xf1 U\\xec\\x04uAi\\x0e\\x9bI&\\x93l\\xc2\\xd8\\xcbF\\x95c\\x8d\\xb2\\xb2;b\\'\\x9aM\\xe7\\x0b\\x04\\xa7\\x80\\xaad\\x0et\\x80\\x0f\\x7f\\xe8\\xc9\\xb2\\xb6\\x91X\\xd6\\x14\\x0el#\\xf1\\x9e\\xdd\\xf7\\x0c\\xcaj\\x01L:\\x06\\x13\\x1a\\x9eaZi4\\xe8\\x92\\xb0Y\\x08\\xa5c\\x99!\\xbc\\xc0\\xd3\\x99\\\\\\xc8o\\x88\\xbf\\xce4\\xa4\\x7f9;\\x9eHE\\xbdi\\xc8\\x07\\x1dg\\xff\\xe9\\x95\\x92DG\\x00c\\x07\\xc0W\"\\x15\\\\?\\x9fB\\xa4$\\xe1i\\xbe\\xe1\\xb4+5r\\xb5P1\\xa7\\x1a+\\xa1]|\\x00{\\xcd\\xf7\\x02\\xd8\\xeb\\x05Gk{\\xbe\\xb2\\x07\\xffcJ\\xec'"
      ]
     },
     "execution_count": 18,
     "metadata": {},
     "output_type": "execute_result"
    }
   ],
   "source": [
    "x"
   ]
  },
  {
   "cell_type": "code",
   "execution_count": null,
   "id": "5657a655",
   "metadata": {},
   "outputs": [],
   "source": [
    "v = xy.evalb(\"\"\"\n",
    "    w = $WIDGET(\"double_window\", 0, 0, 640, 320, \"test\");\n",
    "    w += (b1:$WIDGET(\"button\", 20, 20, 60, 20, \"B1\"));\n",
    "    w.set({child:{b2:[\"button\", 20, 40, 60, 20, \"B2\"]}});\n",
    "    w.set({child:{b3:$WIDGET(\"button\", 20, 50, 60, 20, \"B3\")}});\n",
    "\"\"\")"
   ]
  },
  {
   "cell_type": "code",
   "execution_count": null,
   "id": "1df23bad",
   "metadata": {},
   "outputs": [],
   "source": [
    "grapapy.widgetstart()"
   ]
  },
  {
   "cell_type": "code",
   "execution_count": null,
   "id": "cd338f43",
   "metadata": {},
   "outputs": [],
   "source": []
  }
 ],
 "metadata": {
  "kernelspec": {
   "display_name": "Python 3 (ipykernel)",
   "language": "python",
   "name": "python3"
  },
  "language_info": {
   "codemirror_mode": {
    "name": "ipython",
    "version": 3
   },
   "file_extension": ".py",
   "mimetype": "text/x-python",
   "name": "python",
   "nbconvert_exporter": "python",
   "pygments_lexer": "ipython3",
   "version": "3.10.6"
  }
 },
 "nbformat": 4,
 "nbformat_minor": 5
}
