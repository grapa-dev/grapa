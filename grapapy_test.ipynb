{
 "cells": [
  {
   "cell_type": "code",
   "execution_count": 1,
   "id": "78f56daf",
   "metadata": {},
   "outputs": [
    {
     "data": {
      "text/plain": [
       "'210.5612696743043090739172698565538965143180116634'"
      ]
     },
     "execution_count": 1,
     "metadata": {},
     "output_type": "execute_result"
    }
   ],
   "source": [
    "import grapapy\n",
    "xy = grapapy.new()\n",
    "xy.eval(\"x = 3.45; y = 4.32; x**y;\")"
   ]
  },
  {
   "cell_type": "code",
   "execution_count": 2,
   "id": "f8574490",
   "metadata": {},
   "outputs": [
    {
     "data": {
      "text/plain": [
       "b'hi'"
      ]
     },
     "execution_count": 2,
     "metadata": {},
     "output_type": "execute_result"
    }
   ],
   "source": [
    "xy.evalb(\"'hi';\")"
   ]
  },
  {
   "cell_type": "code",
   "execution_count": null,
   "id": "41d80955",
   "metadata": {},
   "outputs": [],
   "source": []
  }
 ],
 "metadata": {
  "kernelspec": {
   "display_name": "Python 3 (ipykernel)",
   "language": "python",
   "name": "python3"
  },
  "language_info": {
   "codemirror_mode": {
    "name": "ipython",
    "version": 3
   },
   "file_extension": ".py",
   "mimetype": "text/x-python",
   "name": "python",
   "nbconvert_exporter": "python",
   "pygments_lexer": "ipython3",
   "version": "3.10.6"
  }
 },
 "nbformat": 4,
 "nbformat_minor": 5
}
